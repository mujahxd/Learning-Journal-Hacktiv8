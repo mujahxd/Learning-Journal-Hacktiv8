{
 "cells": [
  {
   "cell_type": "code",
   "execution_count": 1,
   "id": "62046791",
   "metadata": {},
   "outputs": [],
   "source": [
    "color_list = ['Red', 'Green', 'White', 'Black']"
   ]
  },
  {
   "cell_type": "code",
   "execution_count": 2,
   "id": "55c9a640",
   "metadata": {},
   "outputs": [],
   "source": [
    "first_color, last_color = color_list[0], color_list[-1]"
   ]
  },
  {
   "cell_type": "code",
   "execution_count": 3,
   "id": "c3803515",
   "metadata": {},
   "outputs": [
    {
     "data": {
      "text/plain": [
       "'Red'"
      ]
     },
     "execution_count": 3,
     "metadata": {},
     "output_type": "execute_result"
    }
   ],
   "source": [
    "first_color"
   ]
  },
  {
   "cell_type": "code",
   "execution_count": 4,
   "id": "e602d202",
   "metadata": {},
   "outputs": [
    {
     "data": {
      "text/plain": [
       "'Black'"
      ]
     },
     "execution_count": 4,
     "metadata": {},
     "output_type": "execute_result"
    }
   ],
   "source": [
    "last_color"
   ]
  },
  {
   "cell_type": "code",
   "execution_count": 12,
   "id": "541371fe",
   "metadata": {},
   "outputs": [
    {
     "data": {
      "text/plain": [
       "['Green', 'White', 'Black']"
      ]
     },
     "execution_count": 12,
     "metadata": {},
     "output_type": "execute_result"
    }
   ],
   "source": [
    "sample_list = ['Red', 'Green', 'White', 'Black', 'Pink', 'Yellow']\n",
    "indices_to_remove = [0, 4, 5]\n",
    "\n",
    "indices_to_remove.sort(reverse=True)\n",
    "\n",
    "for index in indices_to_remove:\n",
    "    del sample_list[index]\n",
    "\n",
    "sample_list"
   ]
  },
  {
   "cell_type": "code",
   "execution_count": 13,
   "id": "f38ef831",
   "metadata": {},
   "outputs": [
    {
     "data": {
      "text/plain": [
       "{0: 10, 1: 20}"
      ]
     },
     "execution_count": 13,
     "metadata": {},
     "output_type": "execute_result"
    }
   ],
   "source": [
    "sample_dict = {\n",
    "    0: 10,\n",
    "    1: 20\n",
    "}\n",
    "\n",
    "sample_dict"
   ]
  },
  {
   "cell_type": "code",
   "execution_count": 14,
   "id": "8ba96013",
   "metadata": {},
   "outputs": [
    {
     "data": {
      "text/plain": [
       "{0: 10, 1: 20, 2: 30}"
      ]
     },
     "execution_count": 14,
     "metadata": {},
     "output_type": "execute_result"
    }
   ],
   "source": [
    "sample_dict.update({2: 30})\n",
    "sample_dict"
   ]
  },
  {
   "cell_type": "code",
   "execution_count": 16,
   "id": "0980a4e1",
   "metadata": {},
   "outputs": [
    {
     "data": {
      "text/plain": [
       "'xyc abz'"
      ]
     },
     "execution_count": 16,
     "metadata": {},
     "output_type": "execute_result"
    }
   ],
   "source": [
    "string_1 = 'abc'\n",
    "string_2 = 'xyz'\n",
    "\n",
    "result = '{}{} {}{}'.format(string_2[:2], string_1[-1], string_1[:2], string_2[-1])\n",
    "result"
   ]
  }
 ],
 "metadata": {
  "kernelspec": {
   "display_name": "Python 3 (ipykernel)",
   "language": "python",
   "name": "python3"
  },
  "language_info": {
   "codemirror_mode": {
    "name": "ipython",
    "version": 3
   },
   "file_extension": ".py",
   "mimetype": "text/x-python",
   "name": "python",
   "nbconvert_exporter": "python",
   "pygments_lexer": "ipython3",
   "version": "3.11.4"
  }
 },
 "nbformat": 4,
 "nbformat_minor": 5
}
